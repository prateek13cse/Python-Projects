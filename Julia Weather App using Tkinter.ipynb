{
 "cells": [
  {
   "cell_type": "code",
   "execution_count": 1,
   "id": "fe2d44b1",
   "metadata": {},
   "outputs": [],
   "source": [
    "from tkinter import *\n",
    "from tkinter import ttk\n",
    "import requests"
   ]
  },
  {
   "cell_type": "code",
   "execution_count": 2,
   "id": "c7ae601b",
   "metadata": {},
   "outputs": [
    {
     "name": "stdout",
     "output_type": "stream",
     "text": [
      "{'coord': {'lon': 77.33, 'lat': 28.58}, 'weather': [{'id': 802, 'main': 'Clouds', 'description': 'scattered clouds', 'icon': '03d'}], 'base': 'stations', 'main': {'temp': 308.33, 'feels_like': 305.77, 'temp_min': 308.31, 'temp_max': 308.33, 'pressure': 1004, 'humidity': 13, 'sea_level': 1004, 'grnd_level': 982}, 'visibility': 10000, 'wind': {'speed': 4.96, 'deg': 287, 'gust': 6.69}, 'clouds': {'all': 45}, 'dt': 1713684875, 'sys': {'type': 2, 'id': 145989, 'country': 'IN', 'sunrise': 1713658729, 'sunset': 1713705570}, 'timezone': 19800, 'id': 7279746, 'name': 'Noida', 'cod': 200}\n"
     ]
    }
   ],
   "source": [
    "city_name = \"noida\"\n",
    "data = requests.get(\"https://api.openweathermap.org/data/2.5/weather?q=\"+city_name+\"&appid=20a01944eda34a13f4a4dcecfff77197\").json()\n",
    "print(data)"
   ]
  },
  {
   "cell_type": "code",
   "execution_count": 4,
   "id": "3999740f",
   "metadata": {},
   "outputs": [],
   "source": [
    "win = Tk()\n",
    "win.title(\"Julia Weather App\")\n",
    "win.config(bg=\"blue\")\n",
    "win.geometry(\"500x570\")\n",
    "\n",
    "def data_get():\n",
    "    city = city_name.get()\n",
    "    data = requests.get(\"https://api.openweathermap.org/data/2.5/weather?q=\"+city+\"&appid=98b5b3079a0bf5e39b65408cf117bff2\").json()\n",
    "    print(data)  # Print data to understand its structure\n",
    "    if 'cod' in data and data['cod'] == '400':\n",
    "        # Error with the request, display a message to the user\n",
    "        w_label1.config(text=\"Error: Invalid city name\")\n",
    "        wb_label1.config(text=\"\")\n",
    "        temp_label1.config(text=\"\")\n",
    "        pres_label1.config(text=\"\")\n",
    "    else:\n",
    "        try:\n",
    "            weather = data['weather'][0]\n",
    "            main_info = data['main']\n",
    "            w_label1.config(text=weather['main'])\n",
    "            wb_label1.config(text=weather['description'])\n",
    "            temp_label1.config(text=str(int(main_info['temp'] - 273.15)))\n",
    "            pres_label1.config(text=main_info['pressure'])\n",
    "        except KeyError as e:\n",
    "            print(f\"KeyError: {e} not found in data\")\n",
    "\n",
    "name_label = Label(win, text=\"Julia Weather App\", font=(\"Time New Roman\", 30, \"bold\"))\n",
    "name_label.place(x=25, y=50, height=50, width=450)\n",
    "\n",
    "city_name = StringVar()\n",
    "list_name = [\"Andhra Pradesh\", \"Arunachal Pradesh\", \"Assam\", \"Bihar\", \"Chhattisgarh\", \"Goa\", \"Gujarat\", \"Haryana\", \"Himachal Pradesh\", \"Jammu and Kashmir\", \"Jharkhand\", \"Karnataka\", \"Kerala\", \"Madhya Pradesh\", \"Maharashtra\", \"Manipur\", \"Meghalaya\", \"Mizoram\", \"Nagaland\", \"Odisha\", \"Punjab\", \"Rajasthan\", \"Sikkim\", \"Tamil Nadu\", \"Telangana\", \"Tripura\", \"Uttar Pradesh\", \"Uttarakhand\", \"West Bengal\", \"Andaman and Nicobar Islands\", \"Chandigarh\", \"Dadra and Nagar Haveli\", \"Daman and Diu\", \"Lakshadweep\", \"National Capital Territory of Delhi\", \"Puducherry\"]\n",
    "com = ttk.Combobox(win, values=list_name, font=(\"Time New Roman\", 20, \"bold\"))\n",
    "com.place(x=25, y=120, height=50, width=450)\n",
    "\n",
    "w_label = Label(win, text=\"Weather Climate\", font=(\"Time New Roman\", 20))\n",
    "w_label.place(x=25, y=260, height=50, width=210)\n",
    "w_label1 = Label(win, text=\"\", font=(\"Time New Roman\", 20))\n",
    "w_label1.place(x=250, y=260, height=50, width=210)\n",
    "\n",
    "wb_label = Label(win, text=\"Weather Description\", font=(\"Time New Roman\", 17))\n",
    "wb_label.place(x=25, y=330, height=50, width=210)\n",
    "wb_label1 = Label(win, text=\"\", font=(\"Time New Roman\", 16))\n",
    "wb_label1.place(x=250, y=330, height=50, width=210)\n",
    "\n",
    "temp_label = Label(win, text=\"Temperature\", font=(\"Time New Roman\", 20))\n",
    "temp_label.place(x=25, y=400, height=50, width=210)\n",
    "temp_label1 = Label(win, text=\"\", font=(\"Time New Roman\", 20))\n",
    "temp_label1.place(x=250, y=400, height=50, width=210)\n",
    "\n",
    "pres_label = Label(win, text=\"Pressure\", font=(\"Time New Roman\", 20))\n",
    "pres_label.place(x=25, y=470, height=50, width=210)\n",
    "pres_label1 = Label(win, text=\"\", font=(\"Time New Roman\", 20))\n",
    "pres_label1.place(x=250, y=470, height=50, width=210)\n",
    "\n",
    "done_button = Button(win, text=\"Done\", font=(\"Time New Roman\", 20, \"bold\"), command=data_get)\n",
    "done_button.place(x=200, y=190, height=50, width=100)\n",
    "\n",
    "win.mainloop()"
   ]
  },
  {
   "cell_type": "code",
   "execution_count": null,
   "id": "e7e47ba6",
   "metadata": {},
   "outputs": [],
   "source": []
  },
  {
   "cell_type": "code",
   "execution_count": null,
   "id": "f28c0b29",
   "metadata": {},
   "outputs": [],
   "source": []
  }
 ],
 "metadata": {
  "kernelspec": {
   "display_name": "Python 3 (ipykernel)",
   "language": "python",
   "name": "python3"
  },
  "language_info": {
   "codemirror_mode": {
    "name": "ipython",
    "version": 3
   },
   "file_extension": ".py",
   "mimetype": "text/x-python",
   "name": "python",
   "nbconvert_exporter": "python",
   "pygments_lexer": "ipython3",
   "version": "3.11.3"
  }
 },
 "nbformat": 4,
 "nbformat_minor": 5
}
