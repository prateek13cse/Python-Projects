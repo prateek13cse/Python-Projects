{
 "cells": [
  {
   "cell_type": "code",
   "execution_count": 1,
   "id": "d0e2c8b3",
   "metadata": {
    "scrolled": true
   },
   "outputs": [
    {
     "name": "stdout",
     "output_type": "stream",
     "text": [
      "Requirement already satisfied: qrcode in c:\\users\\prateek yadav\\anaconda3\\lib\\site-packages (7.4.2)\n",
      "Requirement already satisfied: typing-extensions in c:\\users\\prateek yadav\\anaconda3\\lib\\site-packages (from qrcode) (4.6.3)\n",
      "Requirement already satisfied: pypng in c:\\users\\prateek yadav\\anaconda3\\lib\\site-packages (from qrcode) (0.20220715.0)\n",
      "Requirement already satisfied: colorama in c:\\users\\prateek yadav\\anaconda3\\lib\\site-packages (from qrcode) (0.4.6)\n"
     ]
    }
   ],
   "source": [
    "! pip install qrcode"
   ]
  },
  {
   "cell_type": "code",
   "execution_count": 2,
   "id": "828e7ead",
   "metadata": {},
   "outputs": [],
   "source": [
    "import qrcode as qr"
   ]
  },
  {
   "cell_type": "code",
   "execution_count": 3,
   "id": "8b819343",
   "metadata": {},
   "outputs": [],
   "source": [
    "img = qr.make(\"https://www.linkedin.com/in/prateek13cse/\")"
   ]
  },
  {
   "cell_type": "code",
   "execution_count": 4,
   "id": "bf6b2a06",
   "metadata": {},
   "outputs": [],
   "source": [
    "from PIL import Image"
   ]
  },
  {
   "cell_type": "code",
   "execution_count": 5,
   "id": "c15b647e",
   "metadata": {},
   "outputs": [],
   "source": [
    "qr = qr.QRCode (version = 1, error_correction = qr.constants.ERROR_CORRECT_H, box_size = 10, border = 4,)"
   ]
  },
  {
   "cell_type": "code",
   "execution_count": 6,
   "id": "94ac8938",
   "metadata": {},
   "outputs": [],
   "source": [
    "qr.add_data(\"https://www.linkedin.com/in/prateek13cse/\")"
   ]
  },
  {
   "cell_type": "code",
   "execution_count": 7,
   "id": "7a36b386",
   "metadata": {},
   "outputs": [],
   "source": [
    "qr.make(fit = True)"
   ]
  },
  {
   "cell_type": "code",
   "execution_count": 8,
   "id": "9d0deed2",
   "metadata": {},
   "outputs": [],
   "source": [
    "image = qr.make_image(fill_color = \"black\", back_color = \"white\")"
   ]
  },
  {
   "cell_type": "code",
   "execution_count": 9,
   "id": "5fd0b96b",
   "metadata": {},
   "outputs": [],
   "source": [
    "image.save(\"Prateek_Yadav_Linkedin_qr.png\")"
   ]
  },
  {
   "cell_type": "markdown",
   "id": "c89ddde0",
   "metadata": {},
   "source": [
    "# Thanks !!!"
   ]
  }
 ],
 "metadata": {
  "kernelspec": {
   "display_name": "Python 3 (ipykernel)",
   "language": "python",
   "name": "python3"
  },
  "language_info": {
   "codemirror_mode": {
    "name": "ipython",
    "version": 3
   },
   "file_extension": ".py",
   "mimetype": "text/x-python",
   "name": "python",
   "nbconvert_exporter": "python",
   "pygments_lexer": "ipython3",
   "version": "3.11.3"
  }
 },
 "nbformat": 4,
 "nbformat_minor": 5
}
